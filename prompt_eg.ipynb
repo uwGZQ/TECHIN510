{
  "cells": [
    {
      "cell_type": "code",
      "execution_count": 1,
      "metadata": {
        "colab": {
          "base_uri": "https://localhost:8080/"
        },
        "id": "pDy5OSvLIOOu",
        "outputId": "b5c45de6-6849-4e60-b32a-7e1c46fcb30d"
      },
      "outputs": [
        {
          "name": "stdout",
          "output_type": "stream",
          "text": [
            "··········\n"
          ]
        }
      ],
      "source": [
        "import os\n",
        "import getpass\n",
        "import requests\n",
        "API_KEY = getpass.getpass()\n"
      ]
    },
    {
      "cell_type": "code",
      "source": [
        "# import os\n",
        "# os.getcwd()"
      ],
      "metadata": {
        "colab": {
          "base_uri": "https://localhost:8080/",
          "height": 35
        },
        "id": "UkzvwHnrIc-2",
        "outputId": "cc3d23c8-6c57-4952-a34d-1e3e1d97ba8e"
      },
      "execution_count": 1,
      "outputs": [
        {
          "output_type": "execute_result",
          "data": {
            "text/plain": [
              "'/content'"
            ],
            "application/vnd.google.colaboratory.intrinsic+json": {
              "type": "string"
            }
          },
          "metadata": {},
          "execution_count": 1
        }
      ]
    },
    {
      "cell_type": "code",
      "execution_count": 2,
      "metadata": {
        "id": "HHpU5_LhIOOy"
      },
      "outputs": [],
      "source": [
        "import google.generativeai as genai\n",
        "\n",
        "genai.configure(api_key=API_KEY)"
      ]
    },
    {
      "cell_type": "code",
      "execution_count": 3,
      "metadata": {
        "colab": {
          "base_uri": "https://localhost:8080/",
          "height": 136
        },
        "id": "BklBjj-uIOOz",
        "outputId": "d525e4a2-0438-4deb-f897-6100eb54bac9"
      },
      "outputs": [
        {
          "output_type": "stream",
          "name": "stdout",
          "text": [
            "models/gemini-1.0-pro\n",
            "models/gemini-1.0-pro-001\n",
            "models/gemini-1.0-pro-latest\n",
            "models/gemini-1.0-pro-vision-latest\n",
            "models/gemini-1.5-pro-latest\n",
            "models/gemini-pro\n",
            "models/gemini-pro-vision\n"
          ]
        }
      ],
      "source": [
        "for m in genai.list_models():\n",
        "  if 'generateContent' in m.supported_generation_methods:\n",
        "    print(m.name)"
      ]
    },
    {
      "cell_type": "code",
      "execution_count": 4,
      "metadata": {
        "id": "xHjy4d1bIOOz"
      },
      "outputs": [],
      "source": [
        "model = genai.GenerativeModel('gemini-pro')\n"
      ]
    },
    {
      "cell_type": "code",
      "source": [
        "from IPython.display import display\n",
        "from IPython.display import Markdown\n",
        "import pathlib\n",
        "import textwrap\n",
        "def to_markdown(text):\n",
        "  text = text.replace('•', '  *')\n",
        "  return Markdown(textwrap.indent(text, '> ', predicate=lambda _: True))"
      ],
      "metadata": {
        "id": "vqrcwsjOLZXJ"
      },
      "execution_count": 9,
      "outputs": []
    },
    {
      "cell_type": "code",
      "execution_count": 10,
      "metadata": {
        "colab": {
          "base_uri": "https://localhost:8080/",
          "height": 673
        },
        "id": "lWrNGbDYIOOz",
        "outputId": "46443743-4448-401c-de4c-bb44937188e1"
      },
      "outputs": [
        {
          "output_type": "execute_result",
          "data": {
            "text/plain": [
              "<IPython.core.display.Markdown object>"
            ],
            "text/markdown": "> **Day 1 (April 1st)**\n> \n> * Arrive and check into a budget-friendly hostel ($25/night for 7 nights: $175)\n> * Stroll through the historic district, admiring the architecture and browsing souvenir shops.\n> * Visit the City Museum (Free admission)\n> \n> **Day 2 (April 2nd)**\n> \n> * Explore the vibrant food scene with a guided street food tour ($50)\n> * Visit the National Art Museum (Free admission)\n> * Take a scenic boat cruise along the river ($25)\n> \n> **Day 3 (April 3rd)**\n> \n> * Wander through the botanical gardens, exploring exotic plant life. (Free admission)\n> * Visit the Science and Technology Museum ($20)\n> * Enjoy a dinner at a local restaurant ($20)\n> \n> **Day 4 (April 4th)**\n> \n> * Climb to the top of the observation tower for panoramic city views ($15)\n> * Walk through the quaint streets, discovering hidden gems.\n> * Visit the History Museum ($10)\n> \n> **Day 5 (April 5th)**\n> \n> * Explore the colorful markets, bargaining for local crafts and souvenirs.\n> * Visit the Natural History Museum ($15)\n> * Grab dinner at a street vendor ($10)\n> \n> **Day 6 (April 6th)**\n> \n> * Visit the Zoo ($25)\n> * Attend a cultural performance at a local theater ($30)\n> * Enjoy a farewell dinner at a traditional restaurant ($30)\n> \n> **Day 7 (April 7th)**\n> \n> * Do some last-minute shopping for souvenirs and gifts.\n> * Visit the planetarium for an immersive celestial experience ($20)\n> \n> **Day 8 (April 8th)**\n> \n> * Depart from the city\n> \n> **Estimated Expenses:**\n> \n> * Accommodation: $175\n> * Activities: $190\n> * Food and drinks: $150\n> * Transportation: $25\n> * Shopping: $50\n> * Souvenirs: $50\n> * Contingency fund: $60\n> \n> **Total:** $950\n> \n> This itinerary provides a balance of cultural, historical, and entertainment activities while staying within your budget of $1,000."
          },
          "metadata": {},
          "execution_count": 10
        }
      ],
      "source": [
        "\n",
        "prompt = f\"Generate a travel itinerary for a city destination with a budget of $1000, \" \\\n",
        "             f\"from Apr 1st to Apr 8th, including activities like city walking, visiting museums. .\"\n",
        "response = model.generate_content(prompt)\n",
        "to_markdown(response.text)\n"
      ]
    },
    {
      "cell_type": "markdown",
      "source": [
        "## Write Clear Instructions\n"
      ],
      "metadata": {
        "id": "qrSLnmfILhlC"
      }
    },
    {
      "cell_type": "code",
      "source": [
        "prompt = \"Create a detailed travel itinerary for a city destination within a budget of $1000, for the period from April 1st to April 8th. The itinerary should include activities such as city walking and visiting museums. Please ensure that the schedule is realistic and includes costs for each activity.\""
      ],
      "metadata": {
        "id": "UDJ1qpiCKBp9"
      },
      "execution_count": 11,
      "outputs": []
    },
    {
      "cell_type": "code",
      "source": [
        "response = model.generate_content(prompt)\n",
        "to_markdown(response.text)"
      ],
      "metadata": {
        "colab": {
          "base_uri": "https://localhost:8080/",
          "height": 577
        },
        "id": "vx1NKcmUKB0M",
        "outputId": "e9d0d6c9-4195-487c-a999-96b7b9de86fb"
      },
      "execution_count": 12,
      "outputs": [
        {
          "output_type": "execute_result",
          "data": {
            "text/plain": [
              "<IPython.core.display.Markdown object>"
            ],
            "text/markdown": "> **Day 1 (April 1st)**\n> \n> * Arrive in the city and check into a budget-friendly hotel ($50/night)\n> * Stroll through the city's downtown area (Free)\n> * Visit the city's main market for souvenirs and local goods ($20)\n> * Enjoy dinner at a local restaurant ($15)\n> \n> **Day 2 (April 2nd)**\n> \n> * Embark on a guided walking tour of the city's historical landmarks ($25)\n> * Explore the city's art district and visit a free art gallery (Free)\n> * Have lunch at a street food stall ($10)\n> * Visit a local park for a relaxing afternoon ($5 for entry)\n> \n> **Day 3 (April 3rd)**\n> \n> * Dedicate the day to museum exploration:\n>     * Visit the city's natural history museum ($15)\n>     * Explore the local science museum ($12)\n> \n> **Day 4 (April 4th)**\n> \n> * Take a day trip to a nearby attraction:\n>     * Visit a historical village or castle ($20 for transportation and entry)\n>     * Go for a hike in a scenic park (Free)\n> \n> **Day 5 (April 5th)**\n> \n> * Learn about the city's history and culture at its local history museum ($10)\n> * Visit a local university and explore its campus (Free)\n> * Have dinner at a fine dining restaurant for a special night out ($30)\n> \n> **Day 6 (April 6th)**\n> \n> * Go shopping in the city's main shopping district ($50 for souvenirs)\n> * Enjoy a relaxing spa treatment ($60)\n> * Have dinner at a restaurant with live music ($20)\n> \n> **Day 7 (April 7th)**\n> \n> * Visit a zoo or aquarium ($25)\n> * Take a boat tour of the city's waterways ($20)\n> * Have a farewell dinner at a local restaurant ($15)\n> \n> **Day 8 (April 8th)**\n> \n> * Depart the city\n> \n> **Budget Summary:**\n> \n> * Hotel: $200\n> * Activities: $160\n> * Food and Drinks: $125\n> * Transportation: $40\n> * Souvenirs: $70\n> * Spa Treatment: $60\n> \n> **Total Estimated Cost: $955**"
          },
          "metadata": {},
          "execution_count": 12
        }
      ]
    },
    {
      "cell_type": "markdown",
      "source": [
        "## Provide Reference Text\n"
      ],
      "metadata": {
        "id": "Kv2JYD_0L7FF"
      }
    },
    {
      "cell_type": "code",
      "source": [
        "prompt = 'Using the example of a previous successful itinerary: \"Day 1: Morning - city walk ($0), Afternoon - visit the National Museum ($15), Evening - local cuisine dinner ($30)\", generate a full travel itinerary for a city destination from April 1st to April 8th with a budget of $1000. Include similar activities like city walking and visiting museums, and provide costs for each activity.'"
      ],
      "metadata": {
        "id": "kSdN4unKMBKE"
      },
      "execution_count": 13,
      "outputs": []
    },
    {
      "cell_type": "code",
      "source": [
        "response = model.generate_content(prompt)\n",
        "to_markdown(response.text)"
      ],
      "metadata": {
        "colab": {
          "base_uri": "https://localhost:8080/",
          "height": 414
        },
        "id": "xEJ90C3ZMKoF",
        "outputId": "583bf3aa-492f-478c-bdec-bfb2c6b2c2f1"
      },
      "execution_count": 14,
      "outputs": [
        {
          "output_type": "execute_result",
          "data": {
            "text/plain": [
              "<IPython.core.display.Markdown object>"
            ],
            "text/markdown": "> **Day 1**\n> \n> * Morning: City walking tour (free)\n> * Afternoon: Visit the National Museum ($15)\n> * Evening: Local cuisine dinner ($30)\n> \n> **Day 2**\n> \n> * Morning: Explore the city's historic district (free)\n> * Afternoon: Visit the Art Museum ($20)\n> * Evening: Dinner at a mid-range restaurant ($40)\n> \n> **Day 3**\n> \n> * Morning: Visit a local park or botanical garden (free)\n> * Afternoon: Shopping for souvenirs ($50)\n> * Evening: Street food crawl ($25)\n> \n> **Day 4**\n> \n> * Morning: Visit the city zoo ($25)\n> * Afternoon: Take a guided bus tour ($30)\n> * Evening: Dinner at a rooftop restaurant ($50)\n> \n> **Day 5**\n> \n> * Morning: Attend a cooking class ($60)\n> * Afternoon: Free time for relaxation\n> * Evening: Farewell dinner at a local restaurant ($40)\n> \n> **Day 6**\n> \n> * Morning: Depart for home\n> \n> **Estimated Cost Breakdown:**\n> \n> * Activities: $185\n> * Food and drinks: $245\n> * Accommodation (6 nights at $100/night): $600\n> * Transportation (airport transfers/taxis): $70\n> \n> **Total:** $1000"
          },
          "metadata": {},
          "execution_count": 14
        }
      ]
    },
    {
      "cell_type": "markdown",
      "source": [
        "## Split Complex Tasks into Simpler Subtasks"
      ],
      "metadata": {
        "id": "tyhby7YiMbNT"
      }
    },
    {
      "cell_type": "code",
      "source": [
        "prompt = \"\"\"\n",
        "Step 1: List potential cities that can be visited on a $1000 budget.\n",
        "Step 2: For the selected city, propose a daily schedule from April 1st to April 8th.\n",
        "Step 3: Include activities such as city walking and museum visits. Provide entry costs for each museum.\n",
        "Step 4: Sum up the costs for each day to ensure the total does not exceed $1000.\n",
        "\n",
        "\"\"\""
      ],
      "metadata": {
        "id": "uHaQDpeBMOY9"
      },
      "execution_count": 15,
      "outputs": []
    },
    {
      "cell_type": "code",
      "source": [
        "response = model.generate_content(prompt)\n",
        "to_markdown(response.text)"
      ],
      "metadata": {
        "colab": {
          "base_uri": "https://localhost:8080/",
          "height": 751
        },
        "id": "QSXcZ6cWMOgQ",
        "outputId": "48f12d9b-c34d-42cd-e374-cff8ff76723b"
      },
      "execution_count": 16,
      "outputs": [
        {
          "output_type": "execute_result",
          "data": {
            "text/plain": [
              "<IPython.core.display.Markdown object>"
            ],
            "text/markdown": "> **Step 1: Potential cities for a $1000 budget**\n> \n> * Bangkok, Thailand\n> * Istanbul, Turkey\n> * Budapest, Hungary\n> * Prague, Czech Republic\n> * Krakow, Poland\n> \n> **Step 2: Selected city - Bangkok, Thailand**\n> \n> **Step 3: Daily schedule**\n> \n> **April 1st**\n> \n> * Arrive in Bangkok and check into a budget-friendly hotel near the city center. (Cost: $20/night)\n> * Visit the Grand Palace and Wat Phra Kaew (Temple of the Emerald Buddha). (Cost: 500 baht / $15)\n> * Take a walk along Khaosan Road, a famous backpacker area. (Cost: Free)\n> \n> **Total cost: $35**\n> \n> **April 2nd**\n> \n> * Visit the Jim Thompson House, a beautiful silk museum. (Cost: 200 baht / $6)\n> * Explore the Wat Pho Temple and receive a traditional Thai massage. (Cost: 300 baht / $9)\n> * Take a boat trip along the Chao Phraya River. (Cost: 40 baht / $1.20)\n> \n> **Total cost: $16.20**\n> \n> **April 3rd**\n> \n> * Visit the Museum of Siam, which tells the story of Thailand's history and culture. (Cost: 300 baht / $9)\n> * Explore the Chatuchak Weekend Market, one of the largest markets in the world. (Cost: Free)\n> \n> **Total cost: $9**\n> \n> **April 4th**\n> \n> * Take a day trip to Ayutthaya, an ancient city with many historical ruins. (Cost: 800 baht / $24, including transportation and entrance fees)\n> \n> **Total cost: $24**\n> \n> **April 5th**\n> \n> * Visit the Bangkok Art and Culture Centre, which features contemporary art exhibitions. (Cost: Free)\n> * Walk around Lumpini Park, a large green space in the city center. (Cost: Free)\n> \n> **Total cost: $0**\n> \n> **April 6th**\n> \n> * Visit the National Museum of Bangkok, which houses a collection of Thai art and artifacts. (Cost: 200 baht / $6)\n> * Explore the Banglamphu neighborhood, known for its street food and night market. (Cost: Varies depending on purchases)\n> \n> **Total cost: $6**\n> \n> **April 7th**\n> \n> * Visit the Wat Arun (Temple of Dawn) and enjoy the views from the temple's terrace. (Cost: 50 baht / $1.50)\n> * Take a cooking class and learn how to prepare traditional Thai dishes. (Cost: 1,000 baht / $30)\n> \n> **Total cost: $31.50**\n> \n> **April 8th**\n> \n> * Depart from Bangkok.\n> \n> **Step 4: Costs summary**\n> \n> * Hotel: $20 x 7 nights = $140\n> * Museums/Temples: $15 + $6 + $9 + $6 + $9 + $6 + $1.50 + $30 = $82.50\n> * Activities: $16.20 + $24 + $0 + $31.50 = $71.70\n> * Transportation: $800 (day trip to Ayutthaya)\n> * Food and other expenses: $206.80\n> * 1000 - 140 - 82.50 - 71.70 - 800 - 206.80 = $0.00\n> \n> **Total cost: $1000**"
          },
          "metadata": {},
          "execution_count": 16
        }
      ]
    },
    {
      "cell_type": "markdown",
      "source": [
        "## Give the Model Time to \"Think\"\n"
      ],
      "metadata": {
        "id": "DniPMbORNGOk"
      }
    },
    {
      "cell_type": "code",
      "source": [
        "prompt = 'Please take a moment to consider the best options. Then, generate a travel itinerary for a city destination within a $1000 budget from April 1st to April 8th. The itinerary should focus on low-cost activities like city walking and visiting museums, including the cost for each activity.'"
      ],
      "metadata": {
        "id": "vTZ_ktReNMyv"
      },
      "execution_count": 17,
      "outputs": []
    },
    {
      "cell_type": "code",
      "source": [
        "response = model.generate_content(prompt)\n",
        "to_markdown(response.text)"
      ],
      "metadata": {
        "colab": {
          "base_uri": "https://localhost:8080/",
          "height": 616
        },
        "id": "wv_v9LlLNM8I",
        "outputId": "2066bcb7-0606-42dc-8086-14417eb99aa3"
      },
      "execution_count": 18,
      "outputs": [
        {
          "output_type": "execute_result",
          "data": {
            "text/plain": [
              "<IPython.core.display.Markdown object>"
            ],
            "text/markdown": "> **Destination:** Berlin, Germany\n> \n> **Budget:** $1000\n> \n> **Itinerary:**\n> \n> **Day 1 (April 1st)**\n> \n> * Arrive in Berlin and check into a budget-friendly hostel (approx. $25/night)\n> * Stroll through the Brandenburg Gate (free)\n> * Explore the Reichstag Building (free guided tour)\n> * Enjoy a traditional German dinner at a local restaurant (approx. $20)\n> \n> **Day 2 (April 2nd)**\n> \n> * Visit the Pergamon Museum (entrance fee: $12)\n> * Walk along the Berlin Wall Memorial (free)\n> * Have lunch at a street food stand (approx. $10)\n> * Take a guided tour of the Topography of Terror (entrance fee: $8)\n> \n> **Day 3 (April 3rd)**\n> \n> * Discover the Gemäldegalerie (entrance fee: $10)\n> * Explore the Jewish Museum (entrance fee: $12)\n> * Have dinner at a budget-friendly restaurant (approx. $15)\n> \n> **Day 4 (April 4th)**\n> \n> * Visit the Berlin Cathedral (free admission)\n> * Walk through the Tiergarten park (free)\n> * Have lunch at a picnic spot (approx. $5)\n> * Take a boat tour along the Spree River (approx. $15)\n> \n> **Day 5 (April 5th)**\n> \n> * Explore the East Side Gallery (free)\n> * Visit the German Historical Museum (entrance fee: $8)\n> * Have dinner at a restaurant with live music (approx. $20)\n> \n> **Day 6 (April 6th)**\n> \n> * Visit the Technical Museum (entrance fee: $12)\n> * Take a walk through the Mauerpark flea market (free)\n> * Have lunch at a market stall (approx. $5)\n> * Enjoy an evening concert at a local bar (approx. $10)\n> \n> **Day 7 (April 7th)**\n> \n> * Visit the Charlottenburg Palace (entrance fee: $10)\n> * Take a guided tour of the Berliner Unterwelten (underground tunnels) (approx. $15)\n> * Have dinner at a traditional biergarten (approx. $15)\n> \n> **Day 8 (April 8th)**\n> \n> * Depart from Berlin\n> \n> **Estimated Costs:**\n> \n> * Accommodation: $175\n> * Entrance fees: $75\n> * Food and drinks: $150\n> * Transportation and activities: $50\n> * Contingency fund: $50\n> \n> **Total:** $400\n> \n> **Note:** This itinerary allows for flexibility in budgeting for food and activities, as well as unforeseen expenses. Costs may vary based on individual preferences and the availability of discounts."
          },
          "metadata": {},
          "execution_count": 18
        }
      ]
    },
    {
      "cell_type": "markdown",
      "source": [
        "## Use External Tools\n"
      ],
      "metadata": {
        "id": "Dpf6llJPPpoJ"
      }
    },
    {
      "cell_type": "code",
      "source": [
        "prompt = 'Use a budget planning tool to calculate daily expenses. Create a travel itinerary for a city destination from April 1st to April 8th, staying under a $1000 budget. Include activities such as city walking and visiting museums, ensuring to list and sum the costs associated with each activity.'\n",
        "response = model.generate_content(prompt)\n",
        "response.text\n"
      ],
      "metadata": {
        "colab": {
          "base_uri": "https://localhost:8080/",
          "height": 154
        },
        "id": "oHUMzeHBPuWM",
        "outputId": "d0df6ad0-af6c-4381-f731-1bc6b1fd8c07"
      },
      "execution_count": 21,
      "outputs": [
        {
          "output_type": "execute_result",
          "data": {
            "text/plain": [
              "\"**Budget Planning Tool**\\n\\n**Expense Category | Daily Amount | Daily Total | Weekly Total**\\n---|---|---|---|\\nAccommodation | $50 | $350 | $350\\nFood & Drinks | $25 | $175 | $175\\nTransportation | $10 | $70 | $70\\nActivities | $15 | $105 | $105\\nContingency | $10 | $70 | $70\\n**Total** | | | **$770**\\n\\n**Travel Itinerary**\\n\\n**Day 1 (April 1st)**\\n\\n* Arrive at the city and check into a budget-friendly hostel: $50\\n* City walking tour: Free\\n* Visit the National Museum of Art: $15\\n\\n**Day 2 (April 2nd)**\\n\\n* Visit the City History Museum: $10\\n* Explore the local market and have lunch: $20\\n* Take a boat tour along the river: $20\\n\\n**Day 3 (April 3rd)**\\n\\n* Visit the Science and Technology Museum: $15\\n* Have a dinner at a local restaurant: $30\\n\\n**Day 4 (April 4th)**\\n\\n* Attend a free city concert in the park\\n* Visit the Museum of Contemporary Art: $10\\n* Have dinner at a street food market: $15\\n\\n**Day 5 (April 5th)**\\n\\n* Visit the Botanical Gardens: Free\\n* Have a picnic lunch: $10\\n* Take a guided tour of the city's historical district: $15\\n\\n**Day 6 (April 6th)**\\n\\n* Visit the Zoological Park: $15\\n* Explore the city's nightlife scene: $30\\n\\n**Day 7 (April 7th)**\\n\\n* Visit the Aquarium: $20\\n* Have a farewell dinner at a rooftop restaurant: $40\\n\\n**Day 8 (April 8th)**\\n\\n* Depart from the city\\n\\n**Cost Summary**\\n\\n* Accommodation: $350\\n* Food & Drinks: $175\\n* Transportation: $70\\n* Activities: $105\\n* Contingency: $70\\n**Total:** $770\\n\\nThis itinerary provides a comprehensive travel experience while staying within the budget of $1000. By choosing budget-friendly accommodation, exploring free attractions, and dining at local markets, you can fully immerse yourself in the city's culture without breaking the bank.\""
            ],
            "application/vnd.google.colaboratory.intrinsic+json": {
              "type": "string"
            }
          },
          "metadata": {},
          "execution_count": 21
        }
      ]
    },
    {
      "cell_type": "markdown",
      "source": [
        "### Result:\n",
        "\n",
        "**Budget Planning Tool**\n",
        "\n",
        "Expense Category | Daily Amount | Daily Total | Weekly Total\n",
        "---|---|---|---|\n",
        "Accommodation | \\$50 | \\$350 | \\$350\n",
        "Food & Drinks | \\$25 | \\$175 | \\$175\n",
        "Transportation | \\$10 | \\$70 | \\$70\n",
        "Activities | \\$15 | \\$105 | \\$105\n",
        "Contingency | \\$10 | \\$70 | \\$70\n",
        "Total | | | **\\$770**\n",
        "\n",
        "**Travel Itinerary**\n",
        "\n",
        "**Day 1 (April 1st)**\n",
        "\n",
        "* Arrive at the city and check into a budget-friendly hostel: $50\n",
        "* City walking tour: Free\n",
        "* Visit the National Museum of Art: $15\n",
        "\n",
        "**Day 2 (April 2nd)**\n",
        "\n",
        "* Visit the City History Museum: $10\n",
        "* Explore the local market and have lunch: $20\n",
        "* Take a boat tour along the river: $20\n",
        "\n",
        "**Day 3 (April 3rd)**\n",
        "\n",
        "* Visit the Science and Technology Museum: $15\n",
        "* Have a dinner at a local restaurant: $30\n",
        "\n",
        "**Day 4 (April 4th)**\n",
        "\n",
        "* Attend a free city concert in the park\n",
        "* Visit the Museum of Contemporary Art: $10\n",
        "* Have dinner at a street food market: $15\n",
        "\n",
        "**Day 5 (April 5th)**\n",
        "\n",
        "* Visit the Botanical Gardens: Free\n",
        "* Have a picnic lunch: $10\n",
        "* Take a guided tour of the city's historical district: $15\n",
        "\n",
        "**Day 6 (April 6th)**\n",
        "\n",
        "* Visit the Zoological Park: $15\n",
        "* Explore the city's nightlife scene: $30\n",
        "\n",
        "**Day 7 (April 7th)**\n",
        "\n",
        "* Visit the Aquarium: $20\n",
        "* Have a farewell dinner at a rooftop restaurant: $40\n",
        "\n",
        "**Day 8 (April 8th)**\n",
        "\n",
        "* Depart from the city\n",
        "\n",
        "**Cost Summary**\n",
        "\n",
        "* Accommodation: \\$350\n",
        "* Food & Drinks: \\$175\n",
        "* Transportation: \\$70\n",
        "* Activities: \\$105\n",
        "* Contingency: \\$70\n",
        "\n",
        "Total: \\$770\n",
        "\n",
        "This itinerary provides a comprehensive travel experience while staying within the budget of $1000. By choosing budget-friendly accommodation, exploring free attractions, and dining at local markets, you can fully immerse yourself in the city's culture without breaking the bank.\n"
      ],
      "metadata": {
        "id": "yZf1NtVyNdfh"
      }
    },
    {
      "cell_type": "code",
      "source": [],
      "metadata": {
        "id": "D8O6x_iFQIoc"
      },
      "execution_count": null,
      "outputs": []
    }
  ],
  "metadata": {
    "kernelspec": {
      "display_name": "510",
      "language": "python",
      "name": "python3"
    },
    "language_info": {
      "codemirror_mode": {
        "name": "ipython",
        "version": 3
      },
      "file_extension": ".py",
      "mimetype": "text/x-python",
      "name": "python",
      "nbconvert_exporter": "python",
      "pygments_lexer": "ipython3",
      "version": "3.12.2"
    },
    "colab": {
      "provenance": []
    }
  },
  "nbformat": 4,
  "nbformat_minor": 0
}